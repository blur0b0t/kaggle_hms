{
 "cells": [
  {
   "cell_type": "code",
   "execution_count": 1,
   "metadata": {},
   "outputs": [],
   "source": [
    "import pandas as pd\n",
    "from sklearn.ensemble import RandomForestRegressor\n",
    "import joblib\n",
    "\n",
    "env_kaggle=False\n",
    "\n",
    "kaggle_input=\"./kaggle/input\"\n",
    "kaggle_working=\"./kaggle/working\"\n",
    "model_dir='./kaggle/temp'\n",
    "\n",
    "if env_kaggle:\n",
    "    kaggle_input=\"/kaggle/input/hms-harmful-brain-activity-classification\"\n",
    "    kaggle_working=\"/kaggle/working\"\n",
    "    model_dir='/kaggle/input/gitred/kaggle/temp'\n",
    "\n",
    "kaggle_temp=kaggle_working\n",
    "\n",
    "\n",
    "pd.set_option('display.max_rows', 10)\n",
    "pd.set_option('display.max_columns', None)\n",
    "\n",
    "plen=0.01\n"
   ]
  },
  {
   "cell_type": "code",
   "execution_count": 4,
   "metadata": {},
   "outputs": [],
   "source": [
    "# format test data\n",
    "train_data=pd.read_csv(f\"{kaggle_input}/train.csv\")\n",
    "test_data=pd.read_csv(f\"{kaggle_input}/test.csv\")\n",
    "f_names=['f_train.csv','f_test.csv']\n",
    "fi=1\n",
    "\n",
    "f_data=train_data.copy() if fi==0 else test_data.copy()\n",
    "f_data=f_data.loc[:len(f_data)*plen,:]\n",
    "\n",
    "# embedding averages for spectogram\n",
    "for i in range(len(f_data)):\n",
    "    spect_id=f_data.loc[i,'spectrogram_id']\n",
    "    spect_data=pd.read_parquet(f\"{kaggle_input}/{'train' if fi==0 else 'test'}_spectrograms/{spect_id}.parquet\")\n",
    "    spect_col='LL_0.98'\n",
    "    avgs=[sum(spect_data.loc[i:i+5,spect_col])/5 for i in range(0,min(len(spect_data)-6,300),5)]\n",
    "    for t in range(60):\n",
    "#         f_data.loc[i,f'savg{t}']=avgs[t] \n",
    "        f_data.loc[i,f'savg{t}']=avgs[t] if t<len(avgs) else ''\n",
    "\n",
    "# keeping cols\n",
    "vote_cols=['seizure_vote','lpd_vote','gpd_vote','lrda_vote','grda_vote','other_vote']\n",
    "savg_cols=[f'savg{i}' for i in range(60)]\n",
    "f_data=f_data[[col for col in vote_cols+savg_cols] if fi==0 else [col for col in ['eeg_id']+savg_cols]]\n",
    "if fi==0:\n",
    "    # converting votes to probs\n",
    "    for i in range(len(f_data)):\n",
    "        sum_votes=sum(f_data.loc[i,vote_cols])\n",
    "        f_data.loc[i,vote_cols]=f_data.loc[i,vote_cols].apply(lambda x: (x/sum_votes) )\n",
    "\n",
    "# saving to csv\n",
    "f_data.to_csv(f'{kaggle_working}/{f_names[fi]}',index=False)\n",
    "\n"
   ]
  },
  {
   "cell_type": "code",
   "execution_count": 5,
   "metadata": {},
   "outputs": [
    {
     "name": "stdout",
     "output_type": "stream",
     "text": [
      "       eeg_id  seizure_vote  lpd_vote  gpd_vote  lrda_vote  grda_vote  \\\n",
      "0  3911565283      0.088635  0.154679  0.247601    0.07534   0.052989   \n",
      "\n",
      "   other_vote  \n",
      "0    0.380755  \n",
      "---------------------------done------------------------------\n"
     ]
    }
   ],
   "source": [
    "# predict the test set votes\n",
    "f_test=pd.read_csv(f\"{kaggle_working}/f_test.csv\")\n",
    "f_test.fillna(method='bfill',inplace=True)\n",
    "f_test.fillna(method='ffill',inplace=True)\n",
    "f_test.fillna(0,inplace=True)\n",
    "\n",
    "\n",
    "# load models\n",
    "vote_cols=['seizure_vote','lpd_vote','gpd_vote','lrda_vote','grda_vote','other_vote']\n",
    "models=[f'model{i}' for i in range(len(vote_cols))]\n",
    "for i in range(len(vote_cols)):\n",
    "    models[i]=joblib.load(f'{model_dir}/models/{vote_cols[i]}.joblib')\n",
    "\n",
    "# predicting\n",
    "train_cols=[col for col in f_test.columns if col not in ['eeg_id']]\n",
    "p_votes=pd.DataFrame(columns=vote_cols)\n",
    "for i in range(len(models)):\n",
    "    p_votes[vote_cols[i]]=models[i].predict(f_test[train_cols])\n",
    "p_votes\n",
    "\n",
    "# generalizing probs\n",
    "for i in range(len(p_votes)):\n",
    "   p_votes.loc[i,vote_cols]=p_votes.loc[i,vote_cols].apply(lambda x: (x/sum(p_votes.loc[i,vote_cols])) )\n",
    "p_votes\n",
    "\n",
    "# joining with eeg_id\n",
    "p_votes=pd.concat([f_test['eeg_id'],p_votes],axis=1)\n",
    "\n",
    "# writing sub file\n",
    "p_votes.to_csv(f'{kaggle_working}/submission.csv',index=False)\n",
    "print(p_votes)\n",
    "print('---------------------------done------------------------------')\n"
   ]
  },
  {
   "cell_type": "code",
   "execution_count": null,
   "metadata": {},
   "outputs": [],
   "source": []
  },
  {
   "cell_type": "code",
   "execution_count": null,
   "metadata": {},
   "outputs": [],
   "source": []
  },
  {
   "cell_type": "code",
   "execution_count": null,
   "metadata": {},
   "outputs": [],
   "source": []
  },
  {
   "cell_type": "code",
   "execution_count": null,
   "metadata": {},
   "outputs": [],
   "source": []
  }
 ],
 "metadata": {
  "kernelspec": {
   "display_name": "pytorch",
   "language": "python",
   "name": "python3"
  },
  "language_info": {
   "codemirror_mode": {
    "name": "ipython",
    "version": 3
   },
   "file_extension": ".py",
   "mimetype": "text/x-python",
   "name": "python",
   "nbconvert_exporter": "python",
   "pygments_lexer": "ipython3",
   "version": "3.9.16"
  }
 },
 "nbformat": 4,
 "nbformat_minor": 2
}
